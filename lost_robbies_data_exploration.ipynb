{
 "cells": [
  {
   "cell_type": "markdown",
   "id": "cca80c21",
   "metadata": {},
   "source": [
    "# Finding the Lost Robbies on Ethereum\n",
    "## Treasure Hunting through Ethereum Event Logs\n",
    "\n",
    "\n",
    "<table <tr> <td> <img src=\"https://sothebys-md.brightspotcdn.com/dims4/default/b3f1d33/2147483647/strip/true/crop/2000x1327+0+0/resize/800x531!/quality/90/?url=http%3A%2F%2Fsothebys-brightspot.s3.amazonaws.com%2Fmedia-desk%2F68%2F75%2F92068a3143a6ae4bb87ee8c64304%2Fl22235-c5p86-03-t1.jpg\" width=800/></td>\n",
    "<td> <img src=\"https://sothebys-md.brightspotcdn.com/dims4/default/5ff55bb/2147483647/strip/true/crop/2000x1323+0+0/resize/800x529!/quality/90/?url=http%3A%2F%2Fsothebys-brightspot.s3.amazonaws.com%2Fmedia-desk%2F3b%2F4f%2F38b59d5c4468aa5041e8dede6efb%2Fl22235-c5p86-04-t1.jpg\" width=800/></td>\n",
    "<td><img src=\"https://sothebys-md.brightspotcdn.com/dims4/default/38438a9/2147483647/strip/true/crop/1024x1024+0+0/resize/800x800!/quality/90/?url=http%3A%2F%2Fsothebys-brightspot.s3.amazonaws.com%2Fmedia-desk%2Fd6%2Fa6%2Fe9697f524b75864249642566bb94%2Fl22235-c5p86-cs-01.jpg\" height=400/></td></tr></table>\n",
    "\n",
    "Source: [Sotheby's](https://www.sothebys.com/en/buy/auction/2022/the-now-evening-auction/ai-generated-nude-portrait-7-frame-64)\n",
    "\n",
    "## Blockchain Archaeology.\n",
    "\n",
    "This notebook explores the data behind the legendary story of the \"Lost Robbies\": Robbie Barrat's series of 300 A.I. generated artworks minted on the SuperRare crypto art marketplace on Ethereum and handed out as gifts to attendees of the 2018 Christie's Art+Tech Summit. Today, Robbie's works are highly respected in the crypto art community and have sold for millions of dollars. Yet to this day, the vast majority of those works handed out in 2018 have never been claimed; the gift cards enscribing the private key to access the NFTs lying dormant on Ethereum.\n",
    "\n",
    "How many of these treasured NFTs are actually lost and how can we tell from reading data from the Ethereum blockchain? In this notebook, I'll walk through how to interpret and pull some data from Ethereum tapping into Infura and web3 Python client. "
   ]
  },
  {
   "cell_type": "markdown",
   "id": "0eb6709c",
   "metadata": {},
   "source": [
    "# Set Up"
   ]
  },
  {
   "cell_type": "code",
   "execution_count": null,
   "id": "656aad9a",
   "metadata": {},
   "outputs": [],
   "source": [
    "import pandas as pd\n",
    "import numpy as np\n",
    "from datetime import datetime, timedelta, date, timezone\n",
    "from web3 import Web3\n",
    "from web3._utils.events import get_event_data\n",
    "import json\n",
    "import requests\n",
    "import io\n",
    "from PIL import Image,ImageOps\n",
    "from tensorflow.python.keras.preprocessing.image import load_img, img_to_array, array_to_img"
   ]
  },
  {
   "cell_type": "markdown",
   "id": "6584edd1",
   "metadata": {},
   "source": [
    "To start, we need a way to access Ethereum blockchain data. At its core, Ethereum is a [distributed network](https://youtu.be/MlJPjJQZtC8?t=681) of computers known as nodes that run software for processing Ethereum transactions and verifying blocks. Some of these nodes (called full nodes) hold the entire blockchain's history.\n",
    "\n",
    "Some enthusiasts run their own nodes and can access blockchain data via their personal node but given the technical complexity many analysts opt to use [\"nodes as a service\"](https://ethereum.org/en/developers/docs/nodes-and-clients/nodes-as-a-service/#top) providers that run optimized node infrastucture and build APIs that allow users to read and write to the Ethereum blockchain without having to run their own node. The pros of nodes as a service is that they allow for quicker access to data through familiar infrastucture. But it comes at a cost to decentralization: users must rely on a third party building in a point of centralization and dependence.\n",
    "\n",
    "There are many different types of these services but below I'll be using Infura, which offers a free tier."
   ]
  },
  {
   "cell_type": "code",
   "execution_count": null,
   "id": "d3405073",
   "metadata": {},
   "outputs": [],
   "source": [
    "#Connecting to Ethereum mainnet using Infura - check out https://infura.io/ to get a project ID\n",
    "project_id = ''\n",
    "web3 = Web3(Web3.HTTPProvider('https://mainnet.infura.io/v3/{}'.format(project_id)))\n",
    "if web3.isConnected() == True: print(\"Connected to Ethereum Mainnet\")"
   ]
  },
  {
   "cell_type": "markdown",
   "id": "e05ccd4f",
   "metadata": {},
   "source": [
    "# Step 1: Retrieving Transfer Event Logs\n",
    "\n",
    "Every treasure hunt needs a map, and knowing what to look for on Ethereum starts with understanding smart contracts. Smart contracts are programs with functions and data stored on Ethereum. The main purpose of smart contracts is to execute decentralized application (dapp) program logic in a reliable manner. But another important component to Ethereum smart contracts are event logs. Event logs are like Ethereum's announcer, and tell us what is happening and changing on the field (blockchain). Developers include event logs that get emitted when certain interesting things happen on the blockchain like the creation / minting of a new NFT or ownership change / transfer of a token.\n",
    "\n",
    "Most major NFT projects today follow the [ERC-721 standard](http://erc721.org/). SuperRare's original (v1) contract [0x41a322b28d0ff354040e2cbc676f0320d8c8850d](https://etherscan.io/address/0x41a322b28d0ff354040e2cbc676f0320d8c8850d#code) which Robbie's works were minted with\n",
    "implements ERC721, which includes the `transfer` event. When an NFT is minted there is a `transfer` of the token to the artist from the zero address `0x000...000` bringing the NFT into existence. So we can search for SuperRare transfer events."
   ]
  },
  {
   "cell_type": "markdown",
   "id": "53c2ac06",
   "metadata": {},
   "source": [
    "Below is an example showing the transfer event that created one of the lost robbies: Robbie's AI Generated Nude Portrait #7 Frame #1 (SR token 191)."
   ]
  },
  {
   "cell_type": "code",
   "execution_count": null,
   "id": "a147389a",
   "metadata": {},
   "outputs": [],
   "source": [
    "event_signature        = web3.keccak(text=\"Transfer(address,address,uint256)\").hex()\n",
    "token_contract_address = '0x41a322b28d0ff354040e2cbc676f0320d8c8850d'\n",
    "\n",
    "# Get transfer events\n",
    "logs = web3.eth.getLogs({\n",
    "    \"fromBlock\": 5977236,\n",
    "    \"toBlock\":   5977236,\n",
    "    \"address\":   web3.toChecksumAddress(token_contract_address), #checksum\n",
    "    \"topics\":    [event_signature]\n",
    "})"
   ]
  },
  {
   "cell_type": "code",
   "execution_count": null,
   "id": "028652e9",
   "metadata": {},
   "outputs": [],
   "source": [
    "tx_event_abi = {\n",
    "    'anonymous': False,\n",
    "    'inputs': [\n",
    "        {'indexed': True, 'name': 'from', 'type': 'address'},\n",
    "        {'indexed': True, 'name': 'to', 'type': 'address'},\n",
    "        {'indexed': False, 'name': 'tokenId', 'type': 'uint256'}],\n",
    "    'name': 'Transfer',\n",
    "    'type': 'event'\n",
    "}"
   ]
  },
  {
   "cell_type": "code",
   "execution_count": null,
   "id": "7c57d79e",
   "metadata": {},
   "outputs": [],
   "source": [
    "print(logs[0][\"transactionHash\"].hex())"
   ]
  },
  {
   "cell_type": "code",
   "execution_count": null,
   "id": "9ac3b748",
   "metadata": {},
   "outputs": [],
   "source": [
    "tx = [get_event_data(web3.codec, tx_event_abi, log)[\"args\"] for log in logs]"
   ]
  },
  {
   "cell_type": "code",
   "execution_count": null,
   "id": "bb153987",
   "metadata": {},
   "outputs": [],
   "source": [
    "print(f\"Token {tx[0]['tokenId']} was sent from {tx[0]['from']} to {tx[0]['to']}\")\n",
    "\n",
    "abi = json.loads('[{\"constant\":false,\"inputs\":[{\"name\":\"_uri\",\"type\":\"string\"},{\"name\":\"_editions\",\"type\":\"uint256\"},{\"name\":\"_salePrice\",\"type\":\"uint256\"}],\"name\":\"addNewTokenWithEditions\",\"outputs\":[],\"payable\":false,\"stateMutability\":\"nonpayable\",\"type\":\"function\"},{\"constant\":false,\"inputs\":[{\"name\":\"_tokenId\",\"type\":\"uint256\"},{\"name\":\"_salePrice\",\"type\":\"uint256\"}],\"name\":\"setSalePrice\",\"outputs\":[],\"payable\":false,\"stateMutability\":\"nonpayable\",\"type\":\"function\"},{\"constant\":true,\"inputs\":[],\"name\":\"name\",\"outputs\":[{\"name\":\"_name\",\"type\":\"string\"}],\"payable\":false,\"stateMutability\":\"pure\",\"type\":\"function\"},{\"constant\":false,\"inputs\":[{\"name\":\"_to\",\"type\":\"address\"},{\"name\":\"_tokenId\",\"type\":\"uint256\"}],\"name\":\"approve\",\"outputs\":[],\"payable\":false,\"stateMutability\":\"nonpayable\",\"type\":\"function\"},{\"constant\":true,\"inputs\":[],\"name\":\"totalSupply\",\"outputs\":[{\"name\":\"\",\"type\":\"uint256\"}],\"payable\":false,\"stateMutability\":\"view\",\"type\":\"function\"},{\"constant\":true,\"inputs\":[{\"name\":\"_tokenId\",\"type\":\"uint256\"}],\"name\":\"currentBidDetailsOfToken\",\"outputs\":[{\"name\":\"\",\"type\":\"uint256\"},{\"name\":\"\",\"type\":\"address\"}],\"payable\":false,\"stateMutability\":\"view\",\"type\":\"function\"},{\"constant\":true,\"inputs\":[{\"name\":\"_tokenId\",\"type\":\"uint256\"}],\"name\":\"approvedFor\",\"outputs\":[{\"name\":\"\",\"type\":\"address\"}],\"payable\":false,\"stateMutability\":\"view\",\"type\":\"function\"},{\"constant\":false,\"inputs\":[{\"name\":\"_tokenId\",\"type\":\"uint256\"}],\"name\":\"acceptBid\",\"outputs\":[],\"payable\":false,\"stateMutability\":\"nonpayable\",\"type\":\"function\"},{\"constant\":true,\"inputs\":[{\"name\":\"_creator\",\"type\":\"address\"}],\"name\":\"isWhitelisted\",\"outputs\":[{\"name\":\"\",\"type\":\"bool\"}],\"payable\":false,\"stateMutability\":\"view\",\"type\":\"function\"},{\"constant\":false,\"inputs\":[{\"name\":\"_tokenId\",\"type\":\"uint256\"}],\"name\":\"bid\",\"outputs\":[],\"payable\":true,\"stateMutability\":\"payable\",\"type\":\"function\"},{\"constant\":true,\"inputs\":[{\"name\":\"_owner\",\"type\":\"address\"}],\"name\":\"tokensOf\",\"outputs\":[{\"name\":\"\",\"type\":\"uint256[]\"}],\"payable\":false,\"stateMutability\":\"view\",\"type\":\"function\"},{\"constant\":false,\"inputs\":[{\"name\":\"_percentage\",\"type\":\"uint256\"}],\"name\":\"setMaintainerPercentage\",\"outputs\":[],\"payable\":false,\"stateMutability\":\"nonpayable\",\"type\":\"function\"},{\"constant\":false,\"inputs\":[{\"name\":\"_creator\",\"type\":\"address\"}],\"name\":\"whitelistCreator\",\"outputs\":[],\"payable\":false,\"stateMutability\":\"nonpayable\",\"type\":\"function\"},{\"constant\":true,\"inputs\":[{\"name\":\"_tokenId\",\"type\":\"uint256\"}],\"name\":\"ownerOf\",\"outputs\":[{\"name\":\"\",\"type\":\"address\"}],\"payable\":false,\"stateMutability\":\"view\",\"type\":\"function\"},{\"constant\":true,\"inputs\":[{\"name\":\"_uri\",\"type\":\"string\"}],\"name\":\"originalTokenOfUri\",\"outputs\":[{\"name\":\"\",\"type\":\"uint256\"}],\"payable\":false,\"stateMutability\":\"view\",\"type\":\"function\"},{\"constant\":true,\"inputs\":[{\"name\":\"_owner\",\"type\":\"address\"}],\"name\":\"balanceOf\",\"outputs\":[{\"name\":\"\",\"type\":\"uint256\"}],\"payable\":false,\"stateMutability\":\"view\",\"type\":\"function\"},{\"constant\":true,\"inputs\":[],\"name\":\"owner\",\"outputs\":[{\"name\":\"\",\"type\":\"address\"}],\"payable\":false,\"stateMutability\":\"view\",\"type\":\"function\"},{\"constant\":true,\"inputs\":[],\"name\":\"symbol\",\"outputs\":[{\"name\":\"_symbol\",\"type\":\"string\"}],\"payable\":false,\"stateMutability\":\"pure\",\"type\":\"function\"},{\"constant\":false,\"inputs\":[{\"name\":\"_tokenId\",\"type\":\"uint256\"}],\"name\":\"cancelBid\",\"outputs\":[],\"payable\":false,\"stateMutability\":\"nonpayable\",\"type\":\"function\"},{\"constant\":true,\"inputs\":[{\"name\":\"_tokenId\",\"type\":\"uint256\"}],\"name\":\"salePriceOfToken\",\"outputs\":[{\"name\":\"\",\"type\":\"uint256\"}],\"payable\":false,\"stateMutability\":\"view\",\"type\":\"function\"},{\"constant\":false,\"inputs\":[{\"name\":\"_to\",\"type\":\"address\"},{\"name\":\"_tokenId\",\"type\":\"uint256\"}],\"name\":\"transfer\",\"outputs\":[],\"payable\":false,\"stateMutability\":\"nonpayable\",\"type\":\"function\"},{\"constant\":false,\"inputs\":[{\"name\":\"_tokenId\",\"type\":\"uint256\"}],\"name\":\"takeOwnership\",\"outputs\":[],\"payable\":false,\"stateMutability\":\"nonpayable\",\"type\":\"function\"},{\"constant\":false,\"inputs\":[{\"name\":\"_percentage\",\"type\":\"uint256\"}],\"name\":\"setCreatorPercentage\",\"outputs\":[],\"payable\":false,\"stateMutability\":\"nonpayable\",\"type\":\"function\"},{\"constant\":true,\"inputs\":[{\"name\":\"_tokenId\",\"type\":\"uint256\"}],\"name\":\"tokenURI\",\"outputs\":[{\"name\":\"\",\"type\":\"string\"}],\"payable\":false,\"stateMutability\":\"view\",\"type\":\"function\"},{\"constant\":true,\"inputs\":[{\"name\":\"_tokenId\",\"type\":\"uint256\"}],\"name\":\"creatorOfToken\",\"outputs\":[{\"name\":\"\",\"type\":\"address\"}],\"payable\":false,\"stateMutability\":\"view\",\"type\":\"function\"},{\"constant\":false,\"inputs\":[{\"name\":\"_tokenId\",\"type\":\"uint256\"}],\"name\":\"buy\",\"outputs\":[],\"payable\":true,\"stateMutability\":\"payable\",\"type\":\"function\"},{\"constant\":false,\"inputs\":[{\"name\":\"_uri\",\"type\":\"string\"}],\"name\":\"addNewToken\",\"outputs\":[],\"payable\":false,\"stateMutability\":\"nonpayable\",\"type\":\"function\"},{\"constant\":true,\"inputs\":[],\"name\":\"creatorPercentage\",\"outputs\":[{\"name\":\"\",\"type\":\"uint256\"}],\"payable\":false,\"stateMutability\":\"view\",\"type\":\"function\"},{\"constant\":true,\"inputs\":[],\"name\":\"maintainerPercentage\",\"outputs\":[{\"name\":\"\",\"type\":\"uint256\"}],\"payable\":false,\"stateMutability\":\"view\",\"type\":\"function\"},{\"constant\":false,\"inputs\":[{\"name\":\"newOwner\",\"type\":\"address\"}],\"name\":\"transferOwnership\",\"outputs\":[],\"payable\":false,\"stateMutability\":\"nonpayable\",\"type\":\"function\"},{\"anonymous\":false,\"inputs\":[{\"indexed\":true,\"name\":\"_creator\",\"type\":\"address\"}],\"name\":\"WhitelistCreator\",\"type\":\"event\"},{\"anonymous\":false,\"inputs\":[{\"indexed\":true,\"name\":\"_bidder\",\"type\":\"address\"},{\"indexed\":true,\"name\":\"_amount\",\"type\":\"uint256\"},{\"indexed\":true,\"name\":\"_tokenId\",\"type\":\"uint256\"}],\"name\":\"Bid\",\"type\":\"event\"},{\"anonymous\":false,\"inputs\":[{\"indexed\":true,\"name\":\"_bidder\",\"type\":\"address\"},{\"indexed\":true,\"name\":\"_seller\",\"type\":\"address\"},{\"indexed\":false,\"name\":\"_amount\",\"type\":\"uint256\"},{\"indexed\":true,\"name\":\"_tokenId\",\"type\":\"uint256\"}],\"name\":\"AcceptBid\",\"type\":\"event\"},{\"anonymous\":false,\"inputs\":[{\"indexed\":true,\"name\":\"_bidder\",\"type\":\"address\"},{\"indexed\":true,\"name\":\"_amount\",\"type\":\"uint256\"},{\"indexed\":true,\"name\":\"_tokenId\",\"type\":\"uint256\"}],\"name\":\"CancelBid\",\"type\":\"event\"},{\"anonymous\":false,\"inputs\":[{\"indexed\":true,\"name\":\"_buyer\",\"type\":\"address\"},{\"indexed\":true,\"name\":\"_seller\",\"type\":\"address\"},{\"indexed\":false,\"name\":\"_amount\",\"type\":\"uint256\"},{\"indexed\":true,\"name\":\"_tokenId\",\"type\":\"uint256\"}],\"name\":\"Sold\",\"type\":\"event\"},{\"anonymous\":false,\"inputs\":[{\"indexed\":true,\"name\":\"_tokenId\",\"type\":\"uint256\"},{\"indexed\":true,\"name\":\"_price\",\"type\":\"uint256\"}],\"name\":\"SalePriceSet\",\"type\":\"event\"},{\"anonymous\":false,\"inputs\":[{\"indexed\":true,\"name\":\"previousOwner\",\"type\":\"address\"},{\"indexed\":true,\"name\":\"newOwner\",\"type\":\"address\"}],\"name\":\"OwnershipTransferred\",\"type\":\"event\"},{\"anonymous\":false,\"inputs\":[{\"indexed\":true,\"name\":\"_from\",\"type\":\"address\"},{\"indexed\":true,\"name\":\"_to\",\"type\":\"address\"},{\"indexed\":false,\"name\":\"_tokenId\",\"type\":\"uint256\"}],\"name\":\"Transfer\",\"type\":\"event\"},{\"anonymous\":false,\"inputs\":[{\"indexed\":true,\"name\":\"_owner\",\"type\":\"address\"},{\"indexed\":true,\"name\":\"_approved\",\"type\":\"address\"},{\"indexed\":false,\"name\":\"_tokenId\",\"type\":\"uint256\"}],\"name\":\"Approval\",\"type\":\"event\"}]')\n",
    "contract = web3.eth.contract(address= web3.toChecksumAddress(token_contract_address), abi=abi)\n",
    "\n",
    "def get_tokenURI(token_id):\n",
    "    tokenURI = contract.functions.tokenURI(token_id).call()\n",
    "    return tokenURI\n",
    "\n",
    "def get_metadata(tokenURI):\n",
    "    metadata = requests.get(tokenURI).json()\n",
    "    return metadata\n",
    "\n",
    "def load_image(metadata):\n",
    "    r = requests.get(metadata['image'])\n",
    "    i = Image.open(io.BytesIO(r.content))\n",
    "    return i\n",
    "\n",
    "load_image(get_metadata(get_tokenURI(tx[0]['tokenId'])))"
   ]
  },
  {
   "cell_type": "code",
   "execution_count": null,
   "id": "fe401c92",
   "metadata": {},
   "outputs": [],
   "source": [
    "get_metadata(get_tokenURI(recent_tx[0]['tokenId']))"
   ]
  },
  {
   "cell_type": "markdown",
   "id": "77d9d282",
   "metadata": {},
   "source": [
    "# Step 2: Getting all Transfer Events\n",
    "\n",
    "Now that we know what to look for we can query the whole history and listen for SuperRare transfer events."
   ]
  },
  {
   "cell_type": "code",
   "execution_count": null,
   "id": "ee5bde06",
   "metadata": {},
   "outputs": [],
   "source": [
    "def get_transfer_events(web3, block_start, block_end, token_contract_address, ABI):\n",
    "    \"\"\"\n",
    "    Get all ERC-721 transfer events associated with a contract\n",
    "    Parameters\n",
    "    ----------\n",
    "    w3 : \n",
    "        connection to mainnet.\n",
    "    block_start : int\n",
    "        starting block num to search for events.\n",
    "    block_end : int\n",
    "        end block num to search for events.\n",
    "    token_contract_address : str\n",
    "        eth address for contract.\n",
    "    ABI : json\n",
    "        ABI for contract.\n",
    "    Returns\n",
    "    -------\n",
    "    logs : dict\n",
    "        dictionary of ERC-721 transfer events.\n",
    "    \"\"\"\n",
    "    \n",
    "    event_signature=web3.sha3(text=\"Transfer(address,address,uint256)\").hex()\n",
    "    # Get transfer events\n",
    "    logs = web3.eth.getLogs({\n",
    "        \"fromBlock\": block_start,\n",
    "        \"toBlock\": block_end,\n",
    "        \"address\": web3.toChecksumAddress(token_contract_address),\n",
    "        \"topics\": [event_signature]\n",
    "    })\n",
    "\n",
    "    return logs\n",
    "\n",
    "def decode_event_logs(logs,web3):\n",
    "    \"\"\"\n",
    "    Decode transfer event logs\n",
    "    \n",
    "    Parameters\n",
    "    ----------\n",
    "    logs - raw event logs\n",
    "    \n",
    "    Returns Dictionary\n",
    "    -------\n",
    "    indexed by: txHash + tknid\n",
    "    with: From, to, tokenID, blockNumber, transactionIndex\n",
    "    \"\"\"\n",
    "    event_data = {}\n",
    "    for i,event in enumerate(logs):    \n",
    "        \n",
    "        topic = Web3.toHex(event[\"topics\"][0])\n",
    "        \n",
    "        #TRANSFERS\n",
    "        if topic == web3.sha3(text=\"Transfer(address,address,uint256)\").hex():\n",
    "        \n",
    "            from_ = \"0x\" + Web3.toHex(event[\"topics\"][1])[26:]\n",
    "            to_   = \"0x\" + Web3.toHex(event[\"topics\"][2])[26:]\n",
    "            \n",
    "            #SuperRare V1 Tokens in Topic\n",
    "            #SuperRare V2 Tokens in Data\n",
    "            try:\n",
    "                tknid = Web3.toInt(event[\"topics\"][3])\n",
    "            except:\n",
    "                tknid = int(event[\"data\"],16)\n",
    "            txhash = event[\"transactionHash\"]\n",
    "            blocknum = event[\"blockNumber\"]\n",
    "            log_index = event[\"logIndex\"]\n",
    "            transaction_index = event[\"transactionIndex\"]    \n",
    "            event_data[Web3.toInt(txhash)+log_index] = {\"txhash\":txhash, \"from\":from_,\"to\":to_,\"tokenID\":tknid,'blockNumber':blocknum,'transactionIndex':transaction_index}\n",
    "        \n",
    "    return event_data\n",
    "\n",
    "def get_block_time(web3, block_num):\n",
    "    \"\"\"\n",
    "    Get time of eth block\n",
    "    Parameters\n",
    "    ----------\n",
    "    block_num : int\n",
    "        ethereum block number.\n",
    "    Returns\n",
    "    -------\n",
    "    blocktime : datetime\n",
    "        datetime in UTC of block.\n",
    "    \"\"\"\n",
    "    block_info = web3.eth.get_block(block_num)\n",
    "    blocktime = datetime.fromtimestamp(block_info.timestamp,tz=timezone.utc)\n",
    "    \n",
    "    return blocktime\n",
    "\n",
    "def get_transfer_data(web3, token_contract_address, ABI, block_increment):\n",
    "    \"\"\"\n",
    "    Get Data on ERC-721 Transfers \n",
    "    \n",
    "    Parameters\n",
    "    ----------\n",
    "    \n",
    "    web3 - connection to mainnet \n",
    "    token_contract_address - address for platform\n",
    "    ABI - token's abi\n",
    "    block_increment - how many blocks to search over\n",
    "    \n",
    "    Returns all ERC-721 Transfers decoded \n",
    "    -------\n",
    "    indexed by: txHash + logIndex\n",
    "    with: From, to, tokenID, blockNumber, transactionIndex\n",
    "    \"\"\"\n",
    "    dfs = []\n",
    "    current_block = web3.eth.blockNumber\n",
    "        \n",
    "    #Get contract\n",
    "    token_contract_address = Web3.toChecksumAddress(token_contract_address)\n",
    "    contract = web3.eth.contract(token_contract_address, abi=ABI)\n",
    "            \n",
    "    i=0\n",
    "    while i < current_block:\n",
    "        block_start = i \n",
    "        block_end = i + block_increment\n",
    "        if block_end > current_block:\n",
    "            block_end = current_block\n",
    "        #print(block_start, block_end)\n",
    "        i += block_increment\n",
    "         \n",
    "        #Get transfer events\n",
    "        logs = get_transfer_events(web3,block_start,block_end,token_contract_address,ABI)\n",
    "        #Process log\n",
    "        event_data = decode_event_logs(logs,web3)\n",
    "        \n",
    "        #Get dataframe of transfer events\n",
    "        df_transfers = pd.DataFrame(event_data).transpose()\n",
    "        dfs.append(df_transfers)\n",
    "\n",
    "    df_transfers_all = pd.concat(dfs)\n",
    "\n",
    "    return df_transfers_all"
   ]
  },
  {
   "cell_type": "code",
   "execution_count": null,
   "id": "530e34d6",
   "metadata": {},
   "outputs": [],
   "source": [
    "#here we query every 100,000 blocks\n",
    "abi                    = json.loads('[{\"constant\":false,\"inputs\":[{\"name\":\"_uri\",\"type\":\"string\"},{\"name\":\"_editions\",\"type\":\"uint256\"},{\"name\":\"_salePrice\",\"type\":\"uint256\"}],\"name\":\"addNewTokenWithEditions\",\"outputs\":[],\"payable\":false,\"stateMutability\":\"nonpayable\",\"type\":\"function\"},{\"constant\":false,\"inputs\":[{\"name\":\"_tokenId\",\"type\":\"uint256\"},{\"name\":\"_salePrice\",\"type\":\"uint256\"}],\"name\":\"setSalePrice\",\"outputs\":[],\"payable\":false,\"stateMutability\":\"nonpayable\",\"type\":\"function\"},{\"constant\":true,\"inputs\":[],\"name\":\"name\",\"outputs\":[{\"name\":\"_name\",\"type\":\"string\"}],\"payable\":false,\"stateMutability\":\"pure\",\"type\":\"function\"},{\"constant\":false,\"inputs\":[{\"name\":\"_to\",\"type\":\"address\"},{\"name\":\"_tokenId\",\"type\":\"uint256\"}],\"name\":\"approve\",\"outputs\":[],\"payable\":false,\"stateMutability\":\"nonpayable\",\"type\":\"function\"},{\"constant\":true,\"inputs\":[],\"name\":\"totalSupply\",\"outputs\":[{\"name\":\"\",\"type\":\"uint256\"}],\"payable\":false,\"stateMutability\":\"view\",\"type\":\"function\"},{\"constant\":true,\"inputs\":[{\"name\":\"_tokenId\",\"type\":\"uint256\"}],\"name\":\"currentBidDetailsOfToken\",\"outputs\":[{\"name\":\"\",\"type\":\"uint256\"},{\"name\":\"\",\"type\":\"address\"}],\"payable\":false,\"stateMutability\":\"view\",\"type\":\"function\"},{\"constant\":true,\"inputs\":[{\"name\":\"_tokenId\",\"type\":\"uint256\"}],\"name\":\"approvedFor\",\"outputs\":[{\"name\":\"\",\"type\":\"address\"}],\"payable\":false,\"stateMutability\":\"view\",\"type\":\"function\"},{\"constant\":false,\"inputs\":[{\"name\":\"_tokenId\",\"type\":\"uint256\"}],\"name\":\"acceptBid\",\"outputs\":[],\"payable\":false,\"stateMutability\":\"nonpayable\",\"type\":\"function\"},{\"constant\":true,\"inputs\":[{\"name\":\"_creator\",\"type\":\"address\"}],\"name\":\"isWhitelisted\",\"outputs\":[{\"name\":\"\",\"type\":\"bool\"}],\"payable\":false,\"stateMutability\":\"view\",\"type\":\"function\"},{\"constant\":false,\"inputs\":[{\"name\":\"_tokenId\",\"type\":\"uint256\"}],\"name\":\"bid\",\"outputs\":[],\"payable\":true,\"stateMutability\":\"payable\",\"type\":\"function\"},{\"constant\":true,\"inputs\":[{\"name\":\"_owner\",\"type\":\"address\"}],\"name\":\"tokensOf\",\"outputs\":[{\"name\":\"\",\"type\":\"uint256[]\"}],\"payable\":false,\"stateMutability\":\"view\",\"type\":\"function\"},{\"constant\":false,\"inputs\":[{\"name\":\"_percentage\",\"type\":\"uint256\"}],\"name\":\"setMaintainerPercentage\",\"outputs\":[],\"payable\":false,\"stateMutability\":\"nonpayable\",\"type\":\"function\"},{\"constant\":false,\"inputs\":[{\"name\":\"_creator\",\"type\":\"address\"}],\"name\":\"whitelistCreator\",\"outputs\":[],\"payable\":false,\"stateMutability\":\"nonpayable\",\"type\":\"function\"},{\"constant\":true,\"inputs\":[{\"name\":\"_tokenId\",\"type\":\"uint256\"}],\"name\":\"ownerOf\",\"outputs\":[{\"name\":\"\",\"type\":\"address\"}],\"payable\":false,\"stateMutability\":\"view\",\"type\":\"function\"},{\"constant\":true,\"inputs\":[{\"name\":\"_uri\",\"type\":\"string\"}],\"name\":\"originalTokenOfUri\",\"outputs\":[{\"name\":\"\",\"type\":\"uint256\"}],\"payable\":false,\"stateMutability\":\"view\",\"type\":\"function\"},{\"constant\":true,\"inputs\":[{\"name\":\"_owner\",\"type\":\"address\"}],\"name\":\"balanceOf\",\"outputs\":[{\"name\":\"\",\"type\":\"uint256\"}],\"payable\":false,\"stateMutability\":\"view\",\"type\":\"function\"},{\"constant\":true,\"inputs\":[],\"name\":\"owner\",\"outputs\":[{\"name\":\"\",\"type\":\"address\"}],\"payable\":false,\"stateMutability\":\"view\",\"type\":\"function\"},{\"constant\":true,\"inputs\":[],\"name\":\"symbol\",\"outputs\":[{\"name\":\"_symbol\",\"type\":\"string\"}],\"payable\":false,\"stateMutability\":\"pure\",\"type\":\"function\"},{\"constant\":false,\"inputs\":[{\"name\":\"_tokenId\",\"type\":\"uint256\"}],\"name\":\"cancelBid\",\"outputs\":[],\"payable\":false,\"stateMutability\":\"nonpayable\",\"type\":\"function\"},{\"constant\":true,\"inputs\":[{\"name\":\"_tokenId\",\"type\":\"uint256\"}],\"name\":\"salePriceOfToken\",\"outputs\":[{\"name\":\"\",\"type\":\"uint256\"}],\"payable\":false,\"stateMutability\":\"view\",\"type\":\"function\"},{\"constant\":false,\"inputs\":[{\"name\":\"_to\",\"type\":\"address\"},{\"name\":\"_tokenId\",\"type\":\"uint256\"}],\"name\":\"transfer\",\"outputs\":[],\"payable\":false,\"stateMutability\":\"nonpayable\",\"type\":\"function\"},{\"constant\":false,\"inputs\":[{\"name\":\"_tokenId\",\"type\":\"uint256\"}],\"name\":\"takeOwnership\",\"outputs\":[],\"payable\":false,\"stateMutability\":\"nonpayable\",\"type\":\"function\"},{\"constant\":false,\"inputs\":[{\"name\":\"_percentage\",\"type\":\"uint256\"}],\"name\":\"setCreatorPercentage\",\"outputs\":[],\"payable\":false,\"stateMutability\":\"nonpayable\",\"type\":\"function\"},{\"constant\":true,\"inputs\":[{\"name\":\"_tokenId\",\"type\":\"uint256\"}],\"name\":\"tokenURI\",\"outputs\":[{\"name\":\"\",\"type\":\"string\"}],\"payable\":false,\"stateMutability\":\"view\",\"type\":\"function\"},{\"constant\":true,\"inputs\":[{\"name\":\"_tokenId\",\"type\":\"uint256\"}],\"name\":\"creatorOfToken\",\"outputs\":[{\"name\":\"\",\"type\":\"address\"}],\"payable\":false,\"stateMutability\":\"view\",\"type\":\"function\"},{\"constant\":false,\"inputs\":[{\"name\":\"_tokenId\",\"type\":\"uint256\"}],\"name\":\"buy\",\"outputs\":[],\"payable\":true,\"stateMutability\":\"payable\",\"type\":\"function\"},{\"constant\":false,\"inputs\":[{\"name\":\"_uri\",\"type\":\"string\"}],\"name\":\"addNewToken\",\"outputs\":[],\"payable\":false,\"stateMutability\":\"nonpayable\",\"type\":\"function\"},{\"constant\":true,\"inputs\":[],\"name\":\"creatorPercentage\",\"outputs\":[{\"name\":\"\",\"type\":\"uint256\"}],\"payable\":false,\"stateMutability\":\"view\",\"type\":\"function\"},{\"constant\":true,\"inputs\":[],\"name\":\"maintainerPercentage\",\"outputs\":[{\"name\":\"\",\"type\":\"uint256\"}],\"payable\":false,\"stateMutability\":\"view\",\"type\":\"function\"},{\"constant\":false,\"inputs\":[{\"name\":\"newOwner\",\"type\":\"address\"}],\"name\":\"transferOwnership\",\"outputs\":[],\"payable\":false,\"stateMutability\":\"nonpayable\",\"type\":\"function\"},{\"anonymous\":false,\"inputs\":[{\"indexed\":true,\"name\":\"_creator\",\"type\":\"address\"}],\"name\":\"WhitelistCreator\",\"type\":\"event\"},{\"anonymous\":false,\"inputs\":[{\"indexed\":true,\"name\":\"_bidder\",\"type\":\"address\"},{\"indexed\":true,\"name\":\"_amount\",\"type\":\"uint256\"},{\"indexed\":true,\"name\":\"_tokenId\",\"type\":\"uint256\"}],\"name\":\"Bid\",\"type\":\"event\"},{\"anonymous\":false,\"inputs\":[{\"indexed\":true,\"name\":\"_bidder\",\"type\":\"address\"},{\"indexed\":true,\"name\":\"_seller\",\"type\":\"address\"},{\"indexed\":false,\"name\":\"_amount\",\"type\":\"uint256\"},{\"indexed\":true,\"name\":\"_tokenId\",\"type\":\"uint256\"}],\"name\":\"AcceptBid\",\"type\":\"event\"},{\"anonymous\":false,\"inputs\":[{\"indexed\":true,\"name\":\"_bidder\",\"type\":\"address\"},{\"indexed\":true,\"name\":\"_amount\",\"type\":\"uint256\"},{\"indexed\":true,\"name\":\"_tokenId\",\"type\":\"uint256\"}],\"name\":\"CancelBid\",\"type\":\"event\"},{\"anonymous\":false,\"inputs\":[{\"indexed\":true,\"name\":\"_buyer\",\"type\":\"address\"},{\"indexed\":true,\"name\":\"_seller\",\"type\":\"address\"},{\"indexed\":false,\"name\":\"_amount\",\"type\":\"uint256\"},{\"indexed\":true,\"name\":\"_tokenId\",\"type\":\"uint256\"}],\"name\":\"Sold\",\"type\":\"event\"},{\"anonymous\":false,\"inputs\":[{\"indexed\":true,\"name\":\"_tokenId\",\"type\":\"uint256\"},{\"indexed\":true,\"name\":\"_price\",\"type\":\"uint256\"}],\"name\":\"SalePriceSet\",\"type\":\"event\"},{\"anonymous\":false,\"inputs\":[{\"indexed\":true,\"name\":\"previousOwner\",\"type\":\"address\"},{\"indexed\":true,\"name\":\"newOwner\",\"type\":\"address\"}],\"name\":\"OwnershipTransferred\",\"type\":\"event\"},{\"anonymous\":false,\"inputs\":[{\"indexed\":true,\"name\":\"_from\",\"type\":\"address\"},{\"indexed\":true,\"name\":\"_to\",\"type\":\"address\"},{\"indexed\":false,\"name\":\"_tokenId\",\"type\":\"uint256\"}],\"name\":\"Transfer\",\"type\":\"event\"},{\"anonymous\":false,\"inputs\":[{\"indexed\":true,\"name\":\"_owner\",\"type\":\"address\"},{\"indexed\":true,\"name\":\"_approved\",\"type\":\"address\"},{\"indexed\":false,\"name\":\"_tokenId\",\"type\":\"uint256\"}],\"name\":\"Approval\",\"type\":\"event\"}]')\n",
    "token_contract_address = '0x41a322b28d0ff354040e2cbc676f0320d8c8850d'\n",
    "\n",
    "df_transfers_SR_V1 = get_transfer_data(web3=web3, \n",
    "                                       token_contract_address=token_contract_address, \n",
    "                                       ABI=abi, \n",
    "                                       block_increment=100000)"
   ]
  },
  {
   "cell_type": "markdown",
   "id": "e42070bb",
   "metadata": {},
   "source": [
    "# Step 3. Finding Robbie-related activity"
   ]
  },
  {
   "cell_type": "markdown",
   "id": "cb01ddfb",
   "metadata": {},
   "source": [
    "Now that we have every transfer we can start digging down. First we can start by filtering down to transfer involving Robbie's address, `0x860c4604fe1125ea43f81e613e7afb2aa49546aa`"
   ]
  },
  {
   "cell_type": "code",
   "execution_count": null,
   "id": "7b4e350f",
   "metadata": {},
   "outputs": [],
   "source": [
    "df_rb_transfers = df_transfers_SR_V1[(df_transfers_SR_V1[\"from\"] == '0x860c4604fe1125ea43f81e613e7afb2aa49546aa') | (df_transfers_SR_V1[\"to\"] == '0x860c4604fe1125ea43f81e613e7afb2aa49546aa')]"
   ]
  },
  {
   "cell_type": "code",
   "execution_count": null,
   "id": "a6dfa1c3",
   "metadata": {},
   "outputs": [],
   "source": [
    "print(f\"There have been {df_rb_transfers.shape[0]} transfers involving Robbie's address.\")"
   ]
  },
  {
   "cell_type": "code",
   "execution_count": null,
   "id": "620dbaf5",
   "metadata": {},
   "outputs": [],
   "source": [
    "# we need to get block times\n",
    "blocks = df_rb_transfers.blockNumber.unique()\n",
    "print(len(blocks))\n",
    "df_blocktimes = pd.DataFrame()\n",
    "for block in blocks:\n",
    "    df_blocktimes.loc[block,\"timeUTC\"]=get_block_time(web3,block)"
   ]
  },
  {
   "cell_type": "code",
   "execution_count": null,
   "id": "e293f0c5",
   "metadata": {},
   "outputs": [],
   "source": [
    "#merge block time on\n",
    "df_rb_transfers = pd.merge(df_rb_transfers,df_blocktimes,left_on=\"blockNumber\",right_index=True,how='left')"
   ]
  },
  {
   "cell_type": "markdown",
   "id": "13783e05",
   "metadata": {},
   "source": [
    "The Lost Robbies were all created on July 16th and July 17th, 2018 right before the Christie's event."
   ]
  },
  {
   "cell_type": "code",
   "execution_count": null,
   "id": "8add29dd",
   "metadata": {},
   "outputs": [],
   "source": [
    "#filter to july 16 / 17\n",
    "created_filter = (df_rb_transfers['from'] == '0x0000000000000000000000000000000000000000')\n",
    "date_filter    = (pd.to_datetime(df_rb_transfers.timeUTC).dt.date.isin([date(2018,7,16),date(2018,7,17)]))\n",
    "df_lost_robbies_created = df_rb_transfers[created_filter&date_filter]"
   ]
  },
  {
   "cell_type": "code",
   "execution_count": null,
   "id": "437b7935",
   "metadata": {},
   "outputs": [],
   "source": [
    "df_lost_robbies_created.shape"
   ]
  },
  {
   "cell_type": "markdown",
   "id": "ee056aa7",
   "metadata": {},
   "source": [
    "here are the 300 mints!"
   ]
  },
  {
   "cell_type": "code",
   "execution_count": null,
   "id": "f0d4feef",
   "metadata": {},
   "outputs": [],
   "source": [
    "#take a look at the data...\n",
    "df_lost_robbies_created[[\"from\",\"to\",\"tokenID\",\"timeUTC\",\"blockNumber\"]].reset_index(drop=True).head()"
   ]
  },
  {
   "cell_type": "markdown",
   "id": "f1477985",
   "metadata": {},
   "source": [
    "and the tokenIDs..."
   ]
  },
  {
   "cell_type": "code",
   "execution_count": null,
   "id": "3ab6791b",
   "metadata": {},
   "outputs": [],
   "source": [
    "#get list of the Lost Robbies tokenIds\n",
    "lost_robbies_tokenids = list(df_lost_robbies_created.tokenID.unique())"
   ]
  },
  {
   "cell_type": "markdown",
   "id": "c30ca4ec",
   "metadata": {},
   "source": [
    "# Step 4 Data Analysis: What's Happened to the Lost Robbies, how many have been claimed?"
   ]
  },
  {
   "cell_type": "markdown",
   "id": "06d40065",
   "metadata": {},
   "source": [
    "The easiest way we can tell if the token has been claimed from the blockchain if the token has moved. It's possible some people have access to the private key but just haven't moved them on-chain yet. "
   ]
  },
  {
   "cell_type": "markdown",
   "id": "2f72eac2",
   "metadata": {},
   "source": [
    "Here, we see how many have only ever moved twice and not claimed. Essentially, minted by Robbie and sent to the gift address but no more than that. "
   ]
  },
  {
   "cell_type": "code",
   "execution_count": null,
   "id": "a9c3f14c",
   "metadata": {},
   "outputs": [],
   "source": [
    "df_transfers_SR_V1[df_transfers_SR_V1.tokenID.isin(lost_robbies_tokenids)].groupby(\"tokenID\").tokenID.count().sort_values().value_counts()"
   ]
  },
  {
   "cell_type": "markdown",
   "id": "7f9de520",
   "metadata": {},
   "source": [
    "### Here is a list of the 31 that have moved more than 2 times (had to have been claimed) and their current owners:"
   ]
  },
  {
   "cell_type": "code",
   "execution_count": null,
   "id": "10f91075",
   "metadata": {},
   "outputs": [],
   "source": [
    "tokens = df_transfers_SR_V1[df_transfers_SR_V1.tokenID.isin(lost_robbies_tokenids)].groupby(\"tokenID\",as_index=True).tokenID.count().index\n",
    "values = df_transfers_SR_V1[df_transfers_SR_V1.tokenID.isin(lost_robbies_tokenids)].groupby(\"tokenID\",as_index=True).tokenID.count().values"
   ]
  },
  {
   "cell_type": "code",
   "execution_count": null,
   "id": "4e75dfdf",
   "metadata": {},
   "outputs": [],
   "source": [
    "metadata['name'][-3:]"
   ]
  },
  {
   "cell_type": "code",
   "execution_count": null,
   "id": "dbefc1d3",
   "metadata": {},
   "outputs": [],
   "source": [
    "df_owners = pd.DataFrame()\n",
    "for tokenID,times_moved in zip(tokens,values):\n",
    "    if times_moved>2:\n",
    "        token_uri = get_tokenURI(tokenID)\n",
    "        metadata  = get_metadata(token_uri)\n",
    "        print(f\"{metadata['name']} has been claimed (token {tokenID}), and is currently owned by {contract.functions.ownerOf(tokenID).call()}\")\n",
    "        string = f\"{metadata['name']} has been claimed (token {tokenID}), and is currently owned by {contract.functions.ownerOf(tokenID).call()}\"\n",
    "        #print(\"____________\")\n",
    "        #print(f\"https://superrare.com/artwork/ai-generated-nude-portrait-7-frame-{metadata['name'][-3:]}-{tokenID}\")\n",
    "        df_owners.loc[tokenID,\"Owner\"] = string"
   ]
  },
  {
   "cell_type": "markdown",
   "id": "fc292526",
   "metadata": {},
   "source": [
    "Another way we can check is if the address has sent transactions before or holds a positive balance of eth (the addresses with 0 txs are very likely dormant). For example, [AI Generated Nude Portrait #7 Frame #8](https://superrare.com/artwork/ai-generated-nude-portrait-7-frame-8-198) (token 198) has been claimed by SR user Christensen, but they have not moved it from the address created by SR and Artnome for the conference. It holds a positive balance of ETH, which is needed to pay gas fees for interacting with the smart contract and setting list prices."
   ]
  },
  {
   "cell_type": "code",
   "execution_count": null,
   "id": "b8542a9a",
   "metadata": {},
   "outputs": [],
   "source": [
    "# here we get the current eth balance for each of the 269 that have only moved twice.\n",
    "\n",
    "#get all transfers involving Lost Robbies\n",
    "lost_robbie_transfers = df_transfers_SR_V1[df_transfers_SR_V1.tokenID.isin(lost_robbies_tokenids)].copy()\n",
    "\n",
    "#only those tokens still owned by OG address\n",
    "filter_2 = (lost_robbie_transfers.groupby('tokenID').tokenID.transform('count')==2)\n",
    "lost_robbie_transfers_tokens_orig_adr = lost_robbie_transfers[filter_2].copy()\n",
    "\n",
    "df_eth_bal_lost_robbie_tokens = pd.DataFrame()\n",
    "for token in lost_robbie_transfers_tokens_orig_adr.tokenID.unique():\n",
    "    #get current owner\n",
    "    owner   = contract.functions.ownerOf(token).call()\n",
    "    #get eth balance (in wei)\n",
    "    eth_bal = web3.eth.get_balance(owner)/1e18\n",
    "    #get tx count\n",
    "    tx_cnt = web3.eth.get_transaction_count(owner)\n",
    "    \n",
    "    #append to df\n",
    "    df_eth_bal_lost_robbie_tokens.loc[token,\"eth_bal\"]=eth_bal\n",
    "    df_eth_bal_lost_robbie_tokens.loc[token,\"owner\"]  =owner\n",
    "    df_eth_bal_lost_robbie_tokens.loc[token,\"tx_cnt\"] =tx_cnt"
   ]
  },
  {
   "cell_type": "code",
   "execution_count": null,
   "id": "aaefa3b5",
   "metadata": {},
   "outputs": [],
   "source": [
    "df_eth_bal_lost_robbie_tokens[(df_eth_bal_lost_robbie_tokens.eth_bal>0)|(df_eth_bal_lost_robbie_tokens.tx_cnt>0)]"
   ]
  },
  {
   "cell_type": "markdown",
   "id": "6170f232",
   "metadata": {},
   "source": [
    "From this we have an additional 5 tokens that either have a non-zero eth balance or have made at least one tx. \n",
    "\n",
    "To double check, we can do some manual checks on the SuperRare front end to see if these addresses actually have active SuperRare users associated with them. \n",
    "\n",
    "- `0x9Ced77beed0381B5Ea7d2aE6b859B77Ae0FF0F2D` = SR user [@christensen](https://superrare.com/christensen) so this is claimed\n",
    "- `0xb435bf979E666a2Fee83e52d3ebce375A111dd7A` does not have an associated SR user so this is very likely unclaimed and it has 0 tx (the positive eth could have just been a test tx to the address)\n",
    "- `0xCa96436021bE7AF640b4D6cf0bDB92D47051dC66` = SR user [@nikoknits](https://superrare.com/nikoknits) so this is claimed\n",
    "- `0xAE972C42a681C2Ba4DF60f679b6Def13A970931d` = SR user [@tilmankriesel](https://superrare.com/tilmankriesel) so this is claimed\n",
    "- `0xa63f0ddc7216258006dc892BFd422eDdFE297F89` = SR user [@cxrxhx](https://superrare.com/cxrxhx) so this is also claimed\n",
    "\n",
    "So in total, we had 4 additional Lost Robbies that have been claimed, bringing the total to 35 of 300."
   ]
  },
  {
   "cell_type": "code",
   "execution_count": null,
   "id": "42188cb5",
   "metadata": {},
   "outputs": [],
   "source": [
    "#print owners and names of the works\n",
    "for tokenID in df_eth_bal_lost_robbie_tokens[df_eth_bal_lost_robbie_tokens.eth_bal>0].index:\n",
    "    token_uri = get_tokenURI(tokenID)\n",
    "    metadata  = get_metadata(token_uri)\n",
    "    print(f\"{metadata['name']}(token {tokenID}) is currently owned by {contract.functions.ownerOf(tokenID).call()}\")\n",
    "    print(\"____________\")"
   ]
  },
  {
   "cell_type": "markdown",
   "id": "936144ce",
   "metadata": {},
   "source": [
    "Finally, there is AI Generated Nude Portrait #7 Frame #64 (token 254) which was recently auctioned off at Sotheby's and thus has an owner and is not lost. "
   ]
  },
  {
   "cell_type": "code",
   "execution_count": null,
   "id": "9462fc19",
   "metadata": {},
   "outputs": [],
   "source": [
    "token_uri = get_tokenURI(254)\n",
    "metadata  = get_metadata(token_uri)\n",
    "print(metadata)"
   ]
  },
  {
   "cell_type": "code",
   "execution_count": null,
   "id": "23e849d0",
   "metadata": {},
   "outputs": [],
   "source": [
    "#moved onchain\n",
    "filtermoved = (lost_robbie_transfers.groupby('tokenID').tokenID.transform('count')>2)\n",
    "lost_robbie_transferred = lost_robbie_transfers[filtermoved].copy()\n",
    "moved_onchain = list(lost_robbie_transferred.tokenID.unique())\n",
    "#sothebys\n",
    "sothebys = [254]\n",
    "#owned by original address\n",
    "og_address = [198,238,309,415]\n",
    "\n",
    "claimed_tkns = og_address + moved_onchain + sothebys"
   ]
  },
  {
   "cell_type": "markdown",
   "id": "2b06bd97",
   "metadata": {},
   "source": [
    "So as of March 3, 2022, 264 are likely lost, with only 36 being claimed/i.e. an owner with control of the private key to the address."
   ]
  },
  {
   "cell_type": "markdown",
   "id": "72c57b8d",
   "metadata": {},
   "source": [
    "A Sankey graph is a nice way to visualize this:"
   ]
  },
  {
   "cell_type": "code",
   "execution_count": null,
   "id": "8af75b53",
   "metadata": {},
   "outputs": [],
   "source": [
    "import plotly.graph_objects as go\n",
    "\n",
    "fig = go.Figure(data=[go.Sankey(\n",
    "    node = dict(\n",
    "      pad = 20,\n",
    "      thickness = 20,\n",
    "      line = dict(color = \"black\", width = 0.5),\n",
    "      label = [\"300 Total\", \"36 Claimed\", \"264 Likely Lost\",\"31 Changed Owners/Moved On-Chain\",\"5 Held by Original Address\"],\n",
    "      color = [\"navy\",\"darkgreen\",\"maroon\",\"green\",\"green\"]\n",
    "    ),\n",
    "    link = dict(\n",
    "                source = [0, 0,      # Start\n",
    "                          1, 1],      # Moved?\n",
    "                target = [1, 2, 3, 4, 5],\n",
    "                value = [36,264,31,5]\n",
    "  ))])\n",
    "\n",
    "fig.update_layout(title_text=\"How Many of the Lost Robbies were Claimed?\", font_size=20)\n",
    "fig.show()"
   ]
  },
  {
   "cell_type": "markdown",
   "id": "c430568c",
   "metadata": {},
   "source": [
    "### What was the most recent to move out of the original address?"
   ]
  },
  {
   "cell_type": "code",
   "execution_count": null,
   "id": "d44aa623",
   "metadata": {},
   "outputs": [],
   "source": [
    "#find all of the NFTs that have moved more than twice \n",
    "filter_more_than2 = (lost_robbie_transfers.groupby('tokenID').tokenID.transform('count')>2)\n",
    "lost_robbie_transfers_tokens_claimed = lost_robbie_transfers[filter_more_than2].copy()\n",
    "#sort on tokenID and block height\n",
    "lost_robbie_transfers_tokens_claimed.sort_values([\"tokenID\",\"blockNumber\"],inplace=True)\n",
    "#assign transfer number per token\n",
    "lost_robbie_transfers_tokens_claimed[\"blockNumber\"] = lost_robbie_transfers_tokens_claimed[\"blockNumber\"].astype(int)\n",
    "lost_robbie_transfers_tokens_claimed[\"transfer_number\"] = lost_robbie_transfers_tokens_claimed.groupby(\"tokenID\")[\"blockNumber\"].rank(\"dense\",ascending=True)\n",
    "#of the 3rd transfers, what was most recent (highest block height?)\n",
    "third_transfers = lost_robbie_transfers_tokens_claimed[lost_robbie_transfers_tokens_claimed['transfer_number']==3]\n",
    "most_recent = third_transfers.loc[third_transfers['blockNumber'].idxmax()]\n",
    "\n",
    "print(f\"The most recent Lost Robbie to be claimed was {get_metadata(get_tokenURI(most_recent.tokenID))['name']} (token {most_recent.tokenID}) on {get_block_time(web3,int(most_recent.blockNumber))}\")"
   ]
  },
  {
   "cell_type": "markdown",
   "id": "485e4365",
   "metadata": {},
   "source": [
    "Finally, we can collect all of the lost robbies easily and create a collage."
   ]
  },
  {
   "cell_type": "code",
   "execution_count": null,
   "id": "21e61af3",
   "metadata": {},
   "outputs": [],
   "source": [
    "def create_lost_robbies_collage(lost_robbies_tokenids,claimed_tkns):\n",
    "    \n",
    "    #create image\n",
    "    count = 0\n",
    "    all_arrays=[]\n",
    "    arrays = []\n",
    "    total = 0\n",
    "\n",
    "    #Get NFTs with that tag\n",
    "    headers = {'User-Agent': 'Mozilla/5.0 (Macintosh; Intel Mac OS X 10_10_1) AppleWebKit/537.36 (KHTML, like Gecko) Chrome/39.0.2171.95 Safari/537.36'}\n",
    "    \n",
    "    for tkn in lost_robbies_tokenids:\n",
    "\n",
    "        src = get_tokenURI(tkn)\n",
    "        meta = get_metadata(src)\n",
    "        i = load_image(meta)\n",
    "        #display(i)''\n",
    "        #print(tkn)\n",
    "        i = i.resize((100,100))\n",
    "        \n",
    "        #if it is claimed, make a border around it\n",
    "        if tkn in claimed_tkns:\n",
    "            print(\"claimed\")\n",
    "            i = ImageOps.expand(i,border=(5,5),fill='yellow')\n",
    "        \n",
    "        i = i.resize((100,100))\n",
    "        #print(\"____________\")\n",
    "        _array = img_to_array(i)\n",
    "        #print(_array.shape)\n",
    "        if _array.shape == (100,100,3):\n",
    "            _array = np.resize(_array, (100,100,3))\n",
    "\n",
    "            count+=1\n",
    "            total +=1\n",
    "            arrays.append(_array)\n",
    "\n",
    "            if count == 20:\n",
    "                concatenated = np.concatenate(arrays, axis=1)\n",
    "                all_arrays.append(concatenated)\n",
    "                arrays = []\n",
    "                count = 0\n",
    "                #print(len(arrays))\n",
    "\n",
    "    big_image = np.concatenate(all_arrays,axis=0)\n",
    "    big_im = array_to_img(big_image)\n",
    "    return big_im"
   ]
  },
  {
   "cell_type": "code",
   "execution_count": null,
   "id": "08a5cfc3",
   "metadata": {},
   "outputs": [],
   "source": [
    "create_lost_robbies_collage(lost_robbies_tokenids,claimed_tkns)"
   ]
  },
  {
   "cell_type": "code",
   "execution_count": null,
   "id": "40838d4d",
   "metadata": {},
   "outputs": [],
   "source": []
  }
 ],
 "metadata": {
  "jupytext": {
   "cell_metadata_filter": "-all",
   "encoding": "# coding: utf-8",
   "executable": "/usr/bin/env python",
   "main_language": "python",
   "notebook_metadata_filter": "-all",
   "text_representation": {
    "extension": ".py",
    "format_name": "percent"
   }
  }
 },
 "nbformat": 4,
 "nbformat_minor": 5
}
